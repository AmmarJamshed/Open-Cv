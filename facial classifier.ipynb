{
 "cells": [
  {
   "cell_type": "markdown",
   "id": "88900069",
   "metadata": {},
   "source": [
    "# Detect Camera faces with OpenCV "
   ]
  },
  {
   "cell_type": "code",
   "execution_count": 1,
   "id": "dc9c9e85",
   "metadata": {},
   "outputs": [],
   "source": [
    "import cv2\n",
    "\n",
    "# Create a VideoCapture object\n",
    "cap = cv2.VideoCapture(0)\n",
    "# Load the face cascade\n",
    "face_cascade = cv2.CascadeClassifier(r'C:\\Users\\ammar\\Downloads\\haarcascade_frontalface_default.xml')"
   ]
  },
  {
   "cell_type": "code",
   "execution_count": 2,
   "id": "30e6a0ef",
   "metadata": {},
   "outputs": [],
   "source": [
    "# Capture the screen as a video stream\n",
    "while True:\n",
    "    ret, frame = cap.read()\n",
    "\n",
    "    # Convert the frame to grayscale\n",
    "    gray_frame = cv2.cvtColor(frame, cv2.COLOR_BGR2GRAY)\n",
    "\n",
    "    # Detect faces in the grayscale frame\n",
    "    faces = face_cascade.detectMultiScale(\n",
    "        gray_frame,\n",
    "        scaleFactor=1.1,\n",
    "        minNeighbors=5,\n",
    "        minSize=(30, 30),\n",
    "    )\n",
    "\n",
    "    # Draw a bounding box around each face\n",
    "    for (x, y, w, h) in faces:\n",
    "        cv2.rectangle(frame, (x, y), (x + w, y + h), (255, 0, 0), 2)\n",
    "        \n",
    "    # Display the frame\n",
    "    cv2.imshow('Face Detection', frame)\n",
    "\n",
    "    # Press `q` to quit\n",
    "    if cv2.waitKey(1) & 0xFF == ord('q'):\n",
    "        break"
   ]
  },
  {
   "cell_type": "code",
   "execution_count": 3,
   "id": "c2149327",
   "metadata": {},
   "outputs": [],
   "source": [
    "# Release the VideoCapture object\n",
    "cap.release()\n",
    "cv2.destroyAllWindows()"
   ]
  },
  {
   "cell_type": "code",
   "execution_count": 4,
   "id": "14322fc3",
   "metadata": {},
   "outputs": [
    {
     "name": "stdout",
     "output_type": "stream",
     "text": [
      "Number of faces detected: 1\n",
      "Face found at coordinates (295, 241) with dimensions (132, 132)\n"
     ]
    }
   ],
   "source": [
    "# Print the faces detected\n",
    "print('Number of faces detected:', len(faces))\n",
    "for (x, y, w, h) in faces:\n",
    "    print('Face found at coordinates ({}, {}) with dimensions ({}, {})'.format(x, y, w, h))"
   ]
  },
  {
   "cell_type": "markdown",
   "id": "6876bd52",
   "metadata": {},
   "source": [
    "# Detect Faces on Screen with pyautogui"
   ]
  },
  {
   "cell_type": "code",
   "execution_count": 16,
   "id": "72b4d74c",
   "metadata": {},
   "outputs": [],
   "source": [
    "import pyautogui\n",
    "import cv2\n",
    "import time\n",
    "import numpy as np\n",
    "\n",
    "# Load the face cascade\n",
    "face_cascade = cv2.CascadeClassifier(r'C:\\Users\\ammar\\Downloads\\haarcascade_frontalface_default.xml')\n",
    "\n",
    "# Take a screenshot of the screen\n",
    "screenshot = pyautogui.screenshot()"
   ]
  },
  {
   "cell_type": "code",
   "execution_count": 17,
   "id": "9f710cd2",
   "metadata": {},
   "outputs": [],
   "source": [
    "# Convert the screenshot to a NumPy array\n",
    "screenshot_np = np.array(screenshot)\n",
    "\n",
    "# Convert the screenshot_np to grayscale\n",
    "gray_screenshot = cv2.cvtColor(screenshot_np, cv2.COLOR_BGR2GRAY)\n",
    "\n",
    "# Detect faces in the grayscale screenshot\n",
    "faces = face_cascade.detectMultiScale(\n",
    "    gray_screenshot,\n",
    "    scaleFactor=1.1,\n",
    "    minNeighbors=5,\n",
    "    minSize=(30, 30),\n",
    ")"
   ]
  },
  {
   "cell_type": "code",
   "execution_count": 18,
   "id": "daa90e1a",
   "metadata": {},
   "outputs": [],
   "source": [
    "# Draw a bounding box around each face\n",
    "for (x, y, w, h) in faces:\n",
    "    cv2.rectangle(screenshot_np, (x, y), (x + w, y + h), (255, 0, 0), 2)\n",
    "    \n",
    "    # Display the frame\n",
    "    cv2.imshow('Face Detection', frame)\n",
    "\n",
    "    # Press `q` to quit\n",
    "    if cv2.waitKey(1) & 0xFF == ord('q'):\n",
    "        break\n",
    "\n",
    "# Set the time delay\n",
    "delay = 10"
   ]
  },
  {
   "cell_type": "code",
   "execution_count": 19,
   "id": "2e07d878",
   "metadata": {},
   "outputs": [
    {
     "data": {
      "text/plain": [
       "-1"
      ]
     },
     "execution_count": 19,
     "metadata": {},
     "output_type": "execute_result"
    }
   ],
   "source": [
    "# Take a screenshot at the specified time\n",
    "time.sleep(delay)\n",
    "screenshot = pyautogui.screenshot()\n",
    "\n",
    "# Display the screenshot with the faces drawn on it\n",
    "cv2.imshow('Face Detection', screenshot_np)\n",
    "cv2.waitKey(0)"
   ]
  },
  {
   "cell_type": "code",
   "execution_count": 20,
   "id": "eb8c9f3f",
   "metadata": {},
   "outputs": [
    {
     "name": "stdout",
     "output_type": "stream",
     "text": [
      "Number of faces detected: 0\n"
     ]
    }
   ],
   "source": [
    "# Print the faces detected\n",
    "print('Number of faces detected:', len(faces))\n",
    "for (x, y, w, h) in faces:\n",
    "    print('Face found at coordinates ({}, {}) with dimensions ({}, {})'.format(x, y, w, h))"
   ]
  }
 ],
 "metadata": {
  "kernelspec": {
   "display_name": "Python 3 (ipykernel)",
   "language": "python",
   "name": "python3"
  },
  "language_info": {
   "codemirror_mode": {
    "name": "ipython",
    "version": 3
   },
   "file_extension": ".py",
   "mimetype": "text/x-python",
   "name": "python",
   "nbconvert_exporter": "python",
   "pygments_lexer": "ipython3",
   "version": "3.9.13"
  }
 },
 "nbformat": 4,
 "nbformat_minor": 5
}
