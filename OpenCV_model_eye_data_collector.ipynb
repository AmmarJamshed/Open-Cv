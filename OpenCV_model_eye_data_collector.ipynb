{
 "cells": [
  {
   "cell_type": "code",
   "execution_count": 29,
   "id": "44924b1d",
   "metadata": {},
   "outputs": [],
   "source": [
    "import cv2\n",
    "import time\n",
    "\n",
    "# Load the pre-trained face and eye cascade classifiers\n",
    "face_cascade = cv2.CascadeClassifier(cv2.data.haarcascades + 'haarcascade_frontalface_default.xml')\n",
    "eye_cascade = cv2.CascadeClassifier(cv2.data.haarcascades + 'haarcascade_eye.xml')\n",
    "\n",
    "# Initialize the video capture device\n",
    "cap = cv2.VideoCapture(0)"
   ]
  },
  {
   "cell_type": "markdown",
   "id": "97b18b20",
   "metadata": {},
   "source": [
    "# 1. Intialize camera setting and open data frame"
   ]
  },
  {
   "cell_type": "code",
   "execution_count": 30,
   "id": "1261f286",
   "metadata": {},
   "outputs": [],
   "source": [
    "# Start time for capturing the dataset\n",
    "start_time = time.time()\n",
    "\n",
    "# Initialize empty list to store eye movement data\n",
    "eye_movement_data = []\n"
   ]
  },
  {
   "cell_type": "code",
   "execution_count": null,
   "id": "07fd16d8",
   "metadata": {},
   "outputs": [],
   "source": [
    "# 2. Loop for pinpointed coordinates towards eyelids "
   ]
  },
  {
   "cell_type": "code",
   "execution_count": 31,
   "id": "01fa0aba",
   "metadata": {},
   "outputs": [],
   "source": [
    "while True:\n",
    "    # Read a frame from the video capture device\n",
    "    ret, frame = cap.read()\n",
    "\n",
    "    # Convert the frame to grayscale for face and eye detection\n",
    "    gray = cv2.cvtColor(frame, cv2.COLOR_BGR2GRAY)\n",
    "\n",
    "    # Detect faces in the grayscale frame\n",
    "    faces = face_cascade.detectMultiScale(gray, 1.3, 5)\n",
    "\n",
    "    # Iterate over detected faces\n",
    "    for (x, y, w, h) in faces:\n",
    "        # Draw a rectangle around the detected face (255 are frames in any given image or live feed)\n",
    "        cv2.rectangle(frame, (x, y), (x+w, y+h), (255, 0, 0), 2)\n",
    "\n",
    "        # Extract the region of interest (ROI) for eyes (we account for both eyes in any movement towards right \n",
    "        # or left in coloured and gray frames)\n",
    "        roi_gray = gray[y:y+h, x:x+w]\n",
    "        roi_color = frame[y:y+h, x:x+w]\n",
    "\n",
    "        # Detect eyes in the ROI\n",
    "        eyes = eye_cascade.detectMultiScale(roi_gray)\n",
    "\n",
    "        # Iterate over detected eyes\n",
    "        for (ex, ey, ew, eh) in eyes:\n",
    "            # Draw a rectangle around each detected eye\n",
    "            cv2.rectangle(roi_color, (ex, ey), (ex+ew, ey+eh), (0, 255, 0), 2)\n",
    "            # Append eye coordinates to the dataset\n",
    "            eye_movement_data.append((x + ex + ew // 2, y + ey + eh // 2))\n",
    "\n",
    "    # Display the frame with rectangles around detected faces and eyes\n",
    "    cv2.imshow('frame', frame)\n",
    "\n",
    "    # Break the loop if 5 seconds have elapsed\n",
    "    if time.time() - start_time > 5:\n",
    "        break\n",
    "\n",
    "    # Check for 'q' key press to exit the loop\n",
    "    if cv2.waitKey(1) & 0xFF == ord('q'):\n",
    "        break"
   ]
  },
  {
   "cell_type": "markdown",
   "id": "09a801e2",
   "metadata": {},
   "source": [
    "# 3. Gather data from live camera feed"
   ]
  },
  {
   "cell_type": "code",
   "execution_count": 32,
   "id": "5d057bed",
   "metadata": {},
   "outputs": [
    {
     "name": "stdout",
     "output_type": "stream",
     "text": [
      "Eye movement data: [(325, 209), (268, 213), (338, 210), (326, 210), (269, 212), (327, 210), (268, 212), (269, 212), (328, 209), (326, 209), (269, 212), (326, 209), (269, 212), (326, 209), (268, 212), (324, 208), (268, 212), (304, 273), (324, 208), (268, 212), (304, 273), (324, 209), (269, 213), (304, 273), (324, 209), (269, 213), (306, 274), (265, 207), (265, 207), (265, 207), (327, 211), (270, 214), (324, 210), (269, 213), (324, 209), (268, 213), (270, 213), (326, 209), (269, 213), (325, 210), (267, 213), (326, 210), (268, 212), (325, 209), (270, 213), (325, 210), (267, 213), (326, 210), (268, 214), (326, 209), (269, 213), (325, 210), (270, 213), (325, 210), (271, 214), (324, 210), (269, 213), (324, 210), (269, 213), (324, 210), (268, 214), (324, 210), (268, 214), (324, 210), (268, 213), (325, 210), (268, 213), (325, 210), (268, 214), (324, 210), (269, 213), (266, 215), (324, 209), (267, 212), (268, 213), (326, 211)]\n"
     ]
    }
   ],
   "source": [
    "# Release the video capture device and close OpenCV windows\n",
    "cap.release()\n",
    "cv2.destroyAllWindows()\n",
    "\n",
    "# Print eye movement data\n",
    "print(\"Eye movement data:\", eye_movement_data)"
   ]
  },
  {
   "cell_type": "markdown",
   "id": "777e64cf",
   "metadata": {},
   "source": [
    "# 4.  Convert gathered data into a dataframe for further analysis "
   ]
  },
  {
   "cell_type": "code",
   "execution_count": 33,
   "id": "738a422b",
   "metadata": {},
   "outputs": [
    {
     "name": "stdout",
     "output_type": "stream",
     "text": [
      "Eye movement DataFrame:\n"
     ]
    },
    {
     "data": {
      "text/html": [
       "<div>\n",
       "<style scoped>\n",
       "    .dataframe tbody tr th:only-of-type {\n",
       "        vertical-align: middle;\n",
       "    }\n",
       "\n",
       "    .dataframe tbody tr th {\n",
       "        vertical-align: top;\n",
       "    }\n",
       "\n",
       "    .dataframe thead th {\n",
       "        text-align: right;\n",
       "    }\n",
       "</style>\n",
       "<table border=\"1\" class=\"dataframe\">\n",
       "  <thead>\n",
       "    <tr style=\"text-align: right;\">\n",
       "      <th></th>\n",
       "      <th>left_eye_coordinate</th>\n",
       "      <th>right_eye_coordinate</th>\n",
       "    </tr>\n",
       "  </thead>\n",
       "  <tbody>\n",
       "    <tr>\n",
       "      <th>0</th>\n",
       "      <td>325</td>\n",
       "      <td>209</td>\n",
       "    </tr>\n",
       "    <tr>\n",
       "      <th>1</th>\n",
       "      <td>268</td>\n",
       "      <td>213</td>\n",
       "    </tr>\n",
       "    <tr>\n",
       "      <th>2</th>\n",
       "      <td>338</td>\n",
       "      <td>210</td>\n",
       "    </tr>\n",
       "    <tr>\n",
       "      <th>3</th>\n",
       "      <td>326</td>\n",
       "      <td>210</td>\n",
       "    </tr>\n",
       "    <tr>\n",
       "      <th>4</th>\n",
       "      <td>269</td>\n",
       "      <td>212</td>\n",
       "    </tr>\n",
       "    <tr>\n",
       "      <th>...</th>\n",
       "      <td>...</td>\n",
       "      <td>...</td>\n",
       "    </tr>\n",
       "    <tr>\n",
       "      <th>71</th>\n",
       "      <td>266</td>\n",
       "      <td>215</td>\n",
       "    </tr>\n",
       "    <tr>\n",
       "      <th>72</th>\n",
       "      <td>324</td>\n",
       "      <td>209</td>\n",
       "    </tr>\n",
       "    <tr>\n",
       "      <th>73</th>\n",
       "      <td>267</td>\n",
       "      <td>212</td>\n",
       "    </tr>\n",
       "    <tr>\n",
       "      <th>74</th>\n",
       "      <td>268</td>\n",
       "      <td>213</td>\n",
       "    </tr>\n",
       "    <tr>\n",
       "      <th>75</th>\n",
       "      <td>326</td>\n",
       "      <td>211</td>\n",
       "    </tr>\n",
       "  </tbody>\n",
       "</table>\n",
       "<p>76 rows × 2 columns</p>\n",
       "</div>"
      ],
      "text/plain": [
       "    left_eye_coordinate  right_eye_coordinate\n",
       "0                   325                   209\n",
       "1                   268                   213\n",
       "2                   338                   210\n",
       "3                   326                   210\n",
       "4                   269                   212\n",
       "..                  ...                   ...\n",
       "71                  266                   215\n",
       "72                  324                   209\n",
       "73                  267                   212\n",
       "74                  268                   213\n",
       "75                  326                   211\n",
       "\n",
       "[76 rows x 2 columns]"
      ]
     },
     "execution_count": 33,
     "metadata": {},
     "output_type": "execute_result"
    }
   ],
   "source": [
    "# Convert eye movement data to DataFrame\n",
    "import pandas as pd\n",
    "df = pd.DataFrame(eye_movement_data, columns=['left_eye_coordinate', 'right_eye_coordinate'])\n",
    "\n",
    "# Print the DataFrame\n",
    "print(\"Eye movement DataFrame:\")\n",
    "df"
   ]
  },
  {
   "cell_type": "code",
   "execution_count": 34,
   "id": "88e71637",
   "metadata": {},
   "outputs": [
    {
     "data": {
      "text/plain": [
       "338"
      ]
     },
     "execution_count": 34,
     "metadata": {},
     "output_type": "execute_result"
    }
   ],
   "source": [
    "x = df['left_eye_coordinate']\n",
    "max(x)"
   ]
  }
 ],
 "metadata": {
  "kernelspec": {
   "display_name": "Python 3 (ipykernel)",
   "language": "python",
   "name": "python3"
  },
  "language_info": {
   "codemirror_mode": {
    "name": "ipython",
    "version": 3
   },
   "file_extension": ".py",
   "mimetype": "text/x-python",
   "name": "python",
   "nbconvert_exporter": "python",
   "pygments_lexer": "ipython3",
   "version": "3.11.5"
  }
 },
 "nbformat": 4,
 "nbformat_minor": 5
}
